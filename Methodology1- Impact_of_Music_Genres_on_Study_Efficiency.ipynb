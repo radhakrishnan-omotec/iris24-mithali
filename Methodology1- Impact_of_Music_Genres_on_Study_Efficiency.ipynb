{
 "cells": [
  {
   "cell_type": "markdown",
   "id": "a1549349",
   "metadata": {},
   "source": [
    "\n",
    "# Step 1: Literature Review and Gap Identification\n",
    "This step involves reviewing existing studies and identifying the gaps in research. We focus on:\n",
    "1. Over-reliance on subjective data.\n",
    "2. Lack of real-time biometric analysis.\n",
    "3. Limited integration of mathematical modeling and biometric data.\n"
   ]
  },
  {
   "cell_type": "code",
   "execution_count": null,
   "id": "fdf4bdd5",
   "metadata": {},
   "outputs": [],
   "source": [
    "\n",
    "# Step 2: Development of Biometric-Driven Application\n",
    "# Mock implementation for generating music data and monitoring biometrics.\n",
    "\n",
    "import numpy as np\n",
    "import pandas as pd\n",
    "\n",
    "# Simulated music genres\n",
    "genres = ['Classical', 'Jazz', 'Pop', 'Electronic']\n",
    "data = {'Time': np.arange(1, 101), 'Genre': np.random.choice(genres, 100)}\n",
    "\n",
    "# Simulated biometric data\n",
    "data['Eye_Movement'] = np.random.normal(50, 10, 100)\n",
    "data['Facial_Expression'] = np.random.normal(70, 15, 100)\n",
    "\n",
    "# Create DataFrame\n",
    "biometric_data = pd.DataFrame(data)\n",
    "print(biometric_data.head())\n"
   ]
  },
  {
   "cell_type": "code",
   "execution_count": null,
   "id": "be636d2b",
   "metadata": {},
   "outputs": [],
   "source": [
    "\n",
    "# Step 3: Real-Time Biometric Data Collection and Preprocessing\n",
    "# Data preprocessing involves scaling and cleaning.\n",
    "\n",
    "from sklearn.preprocessing import StandardScaler\n",
    "\n",
    "scaler = StandardScaler()\n",
    "biometric_data[['Eye_Movement', 'Facial_Expression']] = scaler.fit_transform(\n",
    "    biometric_data[['Eye_Movement', 'Facial_Expression']]\n",
    ")\n",
    "print(\"Scaled Data:\")\n",
    "print(biometric_data.head())\n"
   ]
  },
  {
   "cell_type": "code",
   "execution_count": null,
   "id": "6897d03d",
   "metadata": {},
   "outputs": [],
   "source": [
    "\n",
    "# Step 4: Eye Movement and Facial Expression Analysis\n",
    "import matplotlib.pyplot as plt\n",
    "import seaborn as sns\n",
    "\n",
    "# Eye movement variability\n",
    "sns.lineplot(x='Time', y='Eye_Movement', data=biometric_data, label='Eye Movement')\n",
    "sns.lineplot(x='Time', y='Facial_Expression', data=biometric_data, label='Facial Expression')\n",
    "plt.title(\"Biometric Analysis Over Time\")\n",
    "plt.legend()\n",
    "plt.show()\n"
   ]
  },
  {
   "cell_type": "code",
   "execution_count": null,
   "id": "9f23917e",
   "metadata": {},
   "outputs": [],
   "source": [
    "\n",
    "# Step 5: Statistical and Predictive Modeling\n",
    "from sklearn.linear_model import LinearRegression\n",
    "\n",
    "# Predicting study efficiency based on biometrics\n",
    "X = biometric_data[['Eye_Movement', 'Facial_Expression']]\n",
    "y = np.random.normal(75, 5, 100)  # Mock study efficiency scores\n",
    "\n",
    "model = LinearRegression()\n",
    "model.fit(X, y)\n",
    "print(\"Coefficients:\", model.coef_)\n",
    "print(\"Intercept:\", model.intercept_)\n"
   ]
  },
  {
   "cell_type": "code",
   "execution_count": null,
   "id": "02fdc3cc",
   "metadata": {},
   "outputs": [],
   "source": [
    "\n",
    "# Step 6: Time-Series and Autoregressive Modeling for Real-Time Feedback\n",
    "from statsmodels.tsa.arima.model import ARIMA\n",
    "\n",
    "# Simulate time-series data for eye movements\n",
    "eye_movement_series = biometric_data['Eye_Movement']\n",
    "model_arima = ARIMA(eye_movement_series, order=(2, 1, 2))\n",
    "model_fit = model_arima.fit()\n",
    "print(model_fit.summary())\n"
   ]
  },
  {
   "cell_type": "code",
   "execution_count": null,
   "id": "e9130338",
   "metadata": {},
   "outputs": [],
   "source": [
    "\n",
    "# Step 7: Validation and Insights Generation\n",
    "# Insights into music genres and their impact on cognitive performance\n",
    "\n",
    "biometric_data['Efficiency'] = y  # Add study efficiency to DataFrame\n",
    "sns.boxplot(x='Genre', y='Efficiency', data=biometric_data)\n",
    "plt.title(\"Study Efficiency by Music Genre\")\n",
    "plt.show()\n"
   ]
  }
 ],
 "metadata": {},
 "nbformat": 4,
 "nbformat_minor": 5
}